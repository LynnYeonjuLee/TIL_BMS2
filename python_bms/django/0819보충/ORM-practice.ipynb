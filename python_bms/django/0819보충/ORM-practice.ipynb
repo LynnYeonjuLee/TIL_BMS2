{
 "cells": [
  {
   "cell_type": "markdown",
   "metadata": {},
   "source": [
    "# Django ORM 연습\n",
    "\n",
    "\n",
    "이 파일은 반드시 **db.sqlite3 파일과** 같은 위치에 있어야합니다.\n",
    "\n",
    "또한 기존의 `jupyter notebook` 명령어가 아닌, **아래의 명령어로 실행합니다.**\n",
    "\n",
    "\n",
    "```bash\n",
    "$ python manage.py shell_plus --notebook\n",
    "\n",
    "```"
   ]
  },
  {
   "cell_type": "markdown",
   "metadata": {},
   "source": [
    "# 기본 설정\n",
    "\n",
    "- 시작 전 아래 코드블럭을 실행해주세요 :)"
   ]
  },
  {
   "cell_type": "code",
   "execution_count": 1,
   "metadata": {},
   "outputs": [],
   "source": [
    "# 아래의 코드는 절대 수정하지 않습니다.\n",
    "\n",
    "def show_db():\n",
    "    import os\n",
    "    import pandas as pd\n",
    "    import sqlite3\n",
    "\n",
    "    os.environ[\"DJANGO_ALLOW_ASYNC_UNSAFE\"] = \"true\"\n",
    "    conn = sqlite3.connect(\"./db.sqlite3\")\n",
    "    columns = ['id', 'title', 'content', 'created_at', 'updated_at']\n",
    "    articles_article = pd.read_sql_query(\"select * from articles_article\", conn, columns)\n",
    "    return articles_article"
   ]
  },
  {
   "cell_type": "code",
   "execution_count": 2,
   "metadata": {
    "scrolled": true
   },
   "outputs": [
    {
     "name": "stderr",
     "output_type": "stream",
     "text": [
      "/Users/lynn/.pyenv/versions/3.7.3/lib/python3.7/site-packages/pandas/compat/__init__.py:120: UserWarning: Could not import the lzma module. Your installed Python is incomplete. Attempting to use lzma compression will result in a RuntimeError.\n",
      "  warnings.warn(msg)\n"
     ]
    },
    {
     "data": {
      "text/html": [
       "<div>\n",
       "<style scoped>\n",
       "    .dataframe tbody tr th:only-of-type {\n",
       "        vertical-align: middle;\n",
       "    }\n",
       "\n",
       "    .dataframe tbody tr th {\n",
       "        vertical-align: top;\n",
       "    }\n",
       "\n",
       "    .dataframe thead th {\n",
       "        text-align: right;\n",
       "    }\n",
       "</style>\n",
       "<table border=\"1\" class=\"dataframe\">\n",
       "  <thead>\n",
       "    <tr style=\"text-align: right;\">\n",
       "      <th></th>\n",
       "      <th></th>\n",
       "      <th></th>\n",
       "      <th></th>\n",
       "      <th></th>\n",
       "    </tr>\n",
       "    <tr>\n",
       "      <th>id</th>\n",
       "      <th>title</th>\n",
       "      <th>content</th>\n",
       "      <th>created_at</th>\n",
       "      <th>updated_at</th>\n",
       "    </tr>\n",
       "  </thead>\n",
       "  <tbody>\n",
       "  </tbody>\n",
       "</table>\n",
       "</div>"
      ],
      "text/plain": [
       "Empty DataFrame\n",
       "Columns: []\n",
       "Index: []"
      ]
     },
     "execution_count": 2,
     "metadata": {},
     "output_type": "execute_result"
    }
   ],
   "source": [
    "# article 테이블의 내용물을 보고싶을 때 아래와 같이 실행합니다.\n",
    "\n",
    "show_db()"
   ]
  },
  {
   "cell_type": "markdown",
   "metadata": {},
   "source": [
    "# CREATE\n",
    "\n",
    "- ORM을 이용한 데이터 생성은 3가지 방법이 있습니다."
   ]
  },
  {
   "cell_type": "code",
   "execution_count": 4,
   "metadata": {},
   "outputs": [],
   "source": [
    "# 1. 첫번째 방법\n",
    "\n",
    "article1 = Article()\n",
    "article1.title = 'first title'\n",
    "article1.content = 'first content'"
   ]
  },
  {
   "cell_type": "code",
   "execution_count": 5,
   "metadata": {},
   "outputs": [
    {
     "name": "stdout",
     "output_type": "stream",
     "text": [
      "first title\n",
      "first content\n"
     ]
    }
   ],
   "source": [
    "# 제목과 내용을 출력해봅니다.\n",
    "\n",
    "print(article1.title)\n",
    "print(article1.content)"
   ]
  },
  {
   "cell_type": "code",
   "execution_count": 6,
   "metadata": {},
   "outputs": [
    {
     "data": {
      "text/plain": [
       "<Article: Article object (None)>"
      ]
     },
     "execution_count": 6,
     "metadata": {},
     "output_type": "execute_result"
    }
   ],
   "source": [
    "# 실제로 데이터베이스에 저장이 됐는지 확인해봅시다.\n",
    "\n",
    "article1 # None 이 뜬다. "
   ]
  },
  {
   "cell_type": "code",
   "execution_count": 7,
   "metadata": {},
   "outputs": [],
   "source": [
    "# 첫번째 방식은 반드시 save() 함수를 통해 DB에 저장해야합니다.\n",
    "\n",
    "article1.save()"
   ]
  },
  {
   "cell_type": "code",
   "execution_count": 8,
   "metadata": {
    "scrolled": true
   },
   "outputs": [
    {
     "data": {
      "text/html": [
       "<div>\n",
       "<style scoped>\n",
       "    .dataframe tbody tr th:only-of-type {\n",
       "        vertical-align: middle;\n",
       "    }\n",
       "\n",
       "    .dataframe tbody tr th {\n",
       "        vertical-align: top;\n",
       "    }\n",
       "\n",
       "    .dataframe thead th {\n",
       "        text-align: right;\n",
       "    }\n",
       "</style>\n",
       "<table border=\"1\" class=\"dataframe\">\n",
       "  <thead>\n",
       "    <tr style=\"text-align: right;\">\n",
       "      <th></th>\n",
       "      <th></th>\n",
       "      <th></th>\n",
       "      <th></th>\n",
       "      <th></th>\n",
       "    </tr>\n",
       "    <tr>\n",
       "      <th>id</th>\n",
       "      <th>title</th>\n",
       "      <th>content</th>\n",
       "      <th>created_at</th>\n",
       "      <th>updated_at</th>\n",
       "    </tr>\n",
       "  </thead>\n",
       "  <tbody>\n",
       "    <tr>\n",
       "      <th>1</th>\n",
       "      <th>first title</th>\n",
       "      <th>first content</th>\n",
       "      <th>2020-08-19 10:08:04.906179</th>\n",
       "      <th>2020-08-19 10:08:04.906247</th>\n",
       "    </tr>\n",
       "  </tbody>\n",
       "</table>\n",
       "</div>"
      ],
      "text/plain": [
       "Empty DataFrame\n",
       "Columns: []\n",
       "Index: [(1, first title, first content, 2020-08-19 10:08:04.906179, 2020-08-19 10:08:04.906247)]"
      ]
     },
     "execution_count": 8,
     "metadata": {},
     "output_type": "execute_result"
    }
   ],
   "source": [
    "# DB 확인\n",
    "\n",
    "show_db()"
   ]
  },
  {
   "cell_type": "code",
   "execution_count": 10,
   "metadata": {},
   "outputs": [],
   "source": [
    "# 2. 두번째 방법\n",
    "\n",
    "article2 = Article(title='second title', content='second content')"
   ]
  },
  {
   "cell_type": "code",
   "execution_count": 11,
   "metadata": {},
   "outputs": [
    {
     "data": {
      "text/plain": [
       "<Article: Article object (None)>"
      ]
     },
     "execution_count": 11,
     "metadata": {},
     "output_type": "execute_result"
    }
   ],
   "source": [
    "# DB에 저장이 됐는지 확인해봅니다.\n",
    "\n",
    "article2"
   ]
  },
  {
   "cell_type": "code",
   "execution_count": 12,
   "metadata": {},
   "outputs": [],
   "source": [
    "# save() 함수를 통해 저장해줍시다.\n",
    "\n",
    "article2.save()"
   ]
  },
  {
   "cell_type": "code",
   "execution_count": 14,
   "metadata": {},
   "outputs": [
    {
     "data": {
      "text/plain": [
       "<Article: Article object (2)>"
      ]
     },
     "execution_count": 14,
     "metadata": {},
     "output_type": "execute_result"
    }
   ],
   "source": [
    "article2"
   ]
  },
  {
   "cell_type": "code",
   "execution_count": 15,
   "metadata": {
    "scrolled": true
   },
   "outputs": [
    {
     "data": {
      "text/html": [
       "<div>\n",
       "<style scoped>\n",
       "    .dataframe tbody tr th:only-of-type {\n",
       "        vertical-align: middle;\n",
       "    }\n",
       "\n",
       "    .dataframe tbody tr th {\n",
       "        vertical-align: top;\n",
       "    }\n",
       "\n",
       "    .dataframe thead th {\n",
       "        text-align: right;\n",
       "    }\n",
       "</style>\n",
       "<table border=\"1\" class=\"dataframe\">\n",
       "  <thead>\n",
       "    <tr style=\"text-align: right;\">\n",
       "      <th></th>\n",
       "      <th></th>\n",
       "      <th></th>\n",
       "      <th></th>\n",
       "      <th></th>\n",
       "    </tr>\n",
       "    <tr>\n",
       "      <th>id</th>\n",
       "      <th>title</th>\n",
       "      <th>content</th>\n",
       "      <th>created_at</th>\n",
       "      <th>updated_at</th>\n",
       "    </tr>\n",
       "  </thead>\n",
       "  <tbody>\n",
       "    <tr>\n",
       "      <th>1</th>\n",
       "      <th>first title</th>\n",
       "      <th>first content</th>\n",
       "      <th>2020-08-19 10:08:04.906179</th>\n",
       "      <th>2020-08-19 10:08:04.906247</th>\n",
       "    </tr>\n",
       "    <tr>\n",
       "      <th>2</th>\n",
       "      <th>second title</th>\n",
       "      <th>second content</th>\n",
       "      <th>2020-08-19 10:11:01.350435</th>\n",
       "      <th>2020-08-19 10:11:01.350488</th>\n",
       "    </tr>\n",
       "  </tbody>\n",
       "</table>\n",
       "</div>"
      ],
      "text/plain": [
       "Empty DataFrame\n",
       "Columns: []\n",
       "Index: [(1, first title, first content, 2020-08-19 10:08:04.906179, 2020-08-19 10:08:04.906247), (2, second title, second content, 2020-08-19 10:11:01.350435, 2020-08-19 10:11:01.350488)]"
      ]
     },
     "execution_count": 15,
     "metadata": {},
     "output_type": "execute_result"
    }
   ],
   "source": [
    "# DB 확인\n",
    "\n",
    "show_db()"
   ]
  },
  {
   "cell_type": "code",
   "execution_count": 16,
   "metadata": {},
   "outputs": [],
   "source": [
    "# 세번째 방법\n",
    "\n",
    "article3 = Article.objects.create(title='third title', content='third content')"
   ]
  },
  {
   "cell_type": "code",
   "execution_count": 17,
   "metadata": {},
   "outputs": [
    {
     "data": {
      "text/plain": [
       "<Article: Article object (3)>"
      ]
     },
     "execution_count": 17,
     "metadata": {},
     "output_type": "execute_result"
    }
   ],
   "source": [
    "# DB에 실제로 저장됐는지 확인해봅시다.\n",
    "# create() 메서드를 통한 데이터 생성은 save() 함수를 호출하지 않아도 됩니다.\n",
    "\n",
    "article3"
   ]
  },
  {
   "cell_type": "code",
   "execution_count": 18,
   "metadata": {
    "scrolled": true
   },
   "outputs": [
    {
     "data": {
      "text/html": [
       "<div>\n",
       "<style scoped>\n",
       "    .dataframe tbody tr th:only-of-type {\n",
       "        vertical-align: middle;\n",
       "    }\n",
       "\n",
       "    .dataframe tbody tr th {\n",
       "        vertical-align: top;\n",
       "    }\n",
       "\n",
       "    .dataframe thead th {\n",
       "        text-align: right;\n",
       "    }\n",
       "</style>\n",
       "<table border=\"1\" class=\"dataframe\">\n",
       "  <thead>\n",
       "    <tr style=\"text-align: right;\">\n",
       "      <th></th>\n",
       "      <th></th>\n",
       "      <th></th>\n",
       "      <th></th>\n",
       "      <th></th>\n",
       "    </tr>\n",
       "    <tr>\n",
       "      <th>id</th>\n",
       "      <th>title</th>\n",
       "      <th>content</th>\n",
       "      <th>created_at</th>\n",
       "      <th>updated_at</th>\n",
       "    </tr>\n",
       "  </thead>\n",
       "  <tbody>\n",
       "    <tr>\n",
       "      <th>1</th>\n",
       "      <th>first title</th>\n",
       "      <th>first content</th>\n",
       "      <th>2020-08-19 10:08:04.906179</th>\n",
       "      <th>2020-08-19 10:08:04.906247</th>\n",
       "    </tr>\n",
       "    <tr>\n",
       "      <th>2</th>\n",
       "      <th>second title</th>\n",
       "      <th>second content</th>\n",
       "      <th>2020-08-19 10:11:01.350435</th>\n",
       "      <th>2020-08-19 10:11:01.350488</th>\n",
       "    </tr>\n",
       "    <tr>\n",
       "      <th>3</th>\n",
       "      <th>third title</th>\n",
       "      <th>third content</th>\n",
       "      <th>2020-08-19 10:13:13.619964</th>\n",
       "      <th>2020-08-19 10:13:13.620003</th>\n",
       "    </tr>\n",
       "  </tbody>\n",
       "</table>\n",
       "</div>"
      ],
      "text/plain": [
       "Empty DataFrame\n",
       "Columns: []\n",
       "Index: [(1, first title, first content, 2020-08-19 10:08:04.906179, 2020-08-19 10:08:04.906247), (2, second title, second content, 2020-08-19 10:11:01.350435, 2020-08-19 10:11:01.350488), (3, third title, third content, 2020-08-19 10:13:13.619964, 2020-08-19 10:13:13.620003)]"
      ]
     },
     "execution_count": 18,
     "metadata": {},
     "output_type": "execute_result"
    }
   ],
   "source": [
    "# DB 확인\n",
    "\n",
    "show_db()"
   ]
  },
  {
   "cell_type": "markdown",
   "metadata": {},
   "source": [
    "# READ\n",
    "\n",
    "- 데이터베이스에 저장된 값을 불러올 때 사용합니다.\n",
    "    - ClasName.objects.all()\n",
    "    - ClassName.objects.filter()\n",
    "    - ClassName.objects.get()\n",
    "    - ClassName.objects.order_by()"
   ]
  },
  {
   "cell_type": "code",
   "execution_count": 20,
   "metadata": {
    "scrolled": true
   },
   "outputs": [
    {
     "name": "stdout",
     "output_type": "stream",
     "text": [
      "<QuerySet [<Article: Article object (1)>, <Article: Article object (2)>, <Article: Article object (3)>]>\n"
     ]
    }
   ],
   "source": [
    "# 게시글 전부를 가져와봅시다.\n",
    "\n",
    "articles = Article.objects.all()\n",
    "print(articles)"
   ]
  },
  {
   "cell_type": "code",
   "execution_count": 21,
   "metadata": {},
   "outputs": [
    {
     "data": {
      "text/plain": [
       "<Article: Article object (1)>"
      ]
     },
     "execution_count": 21,
     "metadata": {},
     "output_type": "execute_result"
    }
   ],
   "source": [
    "# QuerySet은 리스트처럼 인덱싱과 슬라이싱이 가능합니다.\n",
    "\n",
    "articles[0]"
   ]
  },
  {
   "cell_type": "code",
   "execution_count": 24,
   "metadata": {},
   "outputs": [
    {
     "data": {
      "text/plain": [
       "<QuerySet [<Article: Article object (2)>, <Article: Article object (3)>]>"
      ]
     },
     "execution_count": 24,
     "metadata": {},
     "output_type": "execute_result"
    }
   ],
   "source": [
    "articles[1:]"
   ]
  },
  {
   "cell_type": "code",
   "execution_count": 23,
   "metadata": {
    "scrolled": true
   },
   "outputs": [],
   "source": [
    "# 주의) QuerySet은 리스트와 비슷하지만 같지 않습니다.\n",
    "# 음수 인덱싱을 시도해봅시다.\n",
    "\n",
    "#articles[-1]"
   ]
  },
  {
   "cell_type": "code",
   "execution_count": 26,
   "metadata": {},
   "outputs": [
    {
     "name": "stdout",
     "output_type": "stream",
     "text": [
      "<QuerySet [<Article: Article object (1)>]>\n"
     ]
    }
   ],
   "source": [
    "# filter를 통해 조건에 해당하는 데이터만 가져올 수 있습니다.\n",
    "\n",
    "articles = Article.objects.filter(title='first title')\n",
    "print(articles)"
   ]
  },
  {
   "cell_type": "code",
   "execution_count": 27,
   "metadata": {},
   "outputs": [],
   "source": [
    "# 위에서 가져온 글과 같은 제목을 가진 데이터를 하나 더 추가합니다\n",
    "\n",
    "new_article = Article.objects.create(title='first title', content='some content')"
   ]
  },
  {
   "cell_type": "code",
   "execution_count": 28,
   "metadata": {},
   "outputs": [
    {
     "name": "stdout",
     "output_type": "stream",
     "text": [
      "<QuerySet [<Article: Article object (1)>, <Article: Article object (4)>]>\n"
     ]
    }
   ],
   "source": [
    "# filter를 통해 확인해봅시다.\n",
    "\n",
    "articles = Article.objects.filter(title='first title')\n",
    "print(articles)\n",
    "# 이제 두 개가 가져와진다! "
   ]
  },
  {
   "cell_type": "code",
   "execution_count": 29,
   "metadata": {},
   "outputs": [
    {
     "name": "stdout",
     "output_type": "stream",
     "text": [
      "Article object (1)\n",
      "제목: first title\n",
      "내용: first content\n",
      "\n",
      "Article object (4)\n",
      "제목: first title\n",
      "내용: some content\n",
      "\n"
     ]
    }
   ],
   "source": [
    "# QuerySet도 반복문 사용이 가능합니다.\n",
    "# 반복문을 통해서 하나씩 확인해봅시다.\n",
    "\n",
    "for article in articles:\n",
    "    print(article)\n",
    "    print('제목:', article.title)\n",
    "    print('내용:', article.content)\n",
    "    print()"
   ]
  },
  {
   "cell_type": "code",
   "execution_count": 31,
   "metadata": {},
   "outputs": [],
   "source": [
    "# QuerySet에서 가장 첫번째와 마자막 값 가져오기\n",
    "\n",
    "articles = Article.objects.all()"
   ]
  },
  {
   "cell_type": "code",
   "execution_count": 32,
   "metadata": {},
   "outputs": [
    {
     "data": {
      "text/plain": [
       "<Article: Article object (1)>"
      ]
     },
     "execution_count": 32,
     "metadata": {},
     "output_type": "execute_result"
    }
   ],
   "source": [
    "# first()\n",
    "\n",
    "Article.objects.first() #articles[0] 와 같다."
   ]
  },
  {
   "cell_type": "code",
   "execution_count": 33,
   "metadata": {},
   "outputs": [
    {
     "data": {
      "text/plain": [
       "<Article: Article object (4)>"
      ]
     },
     "execution_count": 33,
     "metadata": {},
     "output_type": "execute_result"
    }
   ],
   "source": [
    "# last()\n",
    "\n",
    "Article.objects.last() # != articles[-1]"
   ]
  },
  {
   "cell_type": "code",
   "execution_count": 36,
   "metadata": {},
   "outputs": [],
   "source": [
    "# 조건을 같이 줄 수도 있습니다.\n",
    "\n"
   ]
  },
  {
   "cell_type": "code",
   "execution_count": 37,
   "metadata": {},
   "outputs": [
    {
     "data": {
      "text/plain": [
       "<Article: Article object (1)>"
      ]
     },
     "execution_count": 37,
     "metadata": {},
     "output_type": "execute_result"
    }
   ],
   "source": [
    "# get\n",
    "\n",
    "Article.objects.get(pk=1)"
   ]
  },
  {
   "cell_type": "code",
   "execution_count": 38,
   "metadata": {},
   "outputs": [
    {
     "name": "stdout",
     "output_type": "stream",
     "text": [
      "Article object (1)\n",
      "<QuerySet [<Article: Article object (1)>]>\n"
     ]
    }
   ],
   "source": [
    "# get vs. filter (1)\n",
    "\n",
    "article_by_get = Article.objects.get(pk=1)\n",
    "article_by_filter = Article.objects.filter(pk=1)\n",
    "\n",
    "print(article_by_get) # 객체\n",
    "print(article_by_filter) # QuerySet"
   ]
  },
  {
   "cell_type": "code",
   "execution_count": 41,
   "metadata": {},
   "outputs": [],
   "source": [
    "# get vs. filter (1)\n",
    "\n",
    "# get은 값이 없을 때 에러가 발생합니다. \n",
    "#article_by_get = Article.objects.get(pk=100000)\n",
    "#print(article_by_get)\n",
    "# 에러뜸 "
   ]
  },
  {
   "cell_type": "code",
   "execution_count": 42,
   "metadata": {},
   "outputs": [
    {
     "name": "stdout",
     "output_type": "stream",
     "text": [
      "<QuerySet []>\n"
     ]
    }
   ],
   "source": [
    "# filter는 값이 없어도 에러가 발생하지 않습니다.\n",
    "\n",
    "article_by_filter = Article.objects.filter(pk=100000)\n",
    "print(article_by_filter)\n",
    "# 빈 쿼리셋이 뜬다."
   ]
  },
  {
   "cell_type": "code",
   "execution_count": 43,
   "metadata": {},
   "outputs": [
    {
     "name": "stdout",
     "output_type": "stream",
     "text": [
      "<QuerySet [<Article: Article object (1)>, <Article: Article object (2)>, <Article: Article object (3)>, <Article: Article object (4)>]>\n"
     ]
    }
   ],
   "source": [
    "# order_by (ascending)\n",
    "\n",
    "articles = Article.objects.order_by('pk')\n",
    "# pk 값을 기준으로 정렬 \n",
    "print(articles)"
   ]
  },
  {
   "cell_type": "code",
   "execution_count": 45,
   "metadata": {
    "scrolled": false
   },
   "outputs": [
    {
     "name": "stdout",
     "output_type": "stream",
     "text": [
      "<QuerySet [<Article: Article object (4)>, <Article: Article object (3)>, <Article: Article object (2)>, <Article: Article object (1)>]>\n"
     ]
    }
   ],
   "source": [
    "# order_by (descending)\n",
    "\n",
    "articles = Article.objects.order_by('-pk')\n",
    "print(articles)"
   ]
  },
  {
   "cell_type": "code",
   "execution_count": 46,
   "metadata": {},
   "outputs": [
    {
     "name": "stdout",
     "output_type": "stream",
     "text": [
      "[<Article: Article object (4)>, <Article: Article object (3)>, <Article: Article object (2)>, <Article: Article object (1)>]\n"
     ]
    }
   ],
   "source": [
    "articles = Article.objects.all()[::-1]\n",
    "print(articles)\n",
    "# 위에꺼랑 같은 결과!"
   ]
  },
  {
   "cell_type": "code",
   "execution_count": 51,
   "metadata": {},
   "outputs": [
    {
     "name": "stdout",
     "output_type": "stream",
     "text": [
      "<QuerySet [<Article: Article object (1)>, <Article: Article object (4)>]>\n",
      "<QuerySet [<Article: Article object (1)>, <Article: Article object (4)>]>\n",
      "<QuerySet [<Article: Article object (1)>, <Article: Article object (2)>, <Article: Article object (3)>, <Article: Article object (4)>]>\n"
     ]
    }
   ],
   "source": [
    "# 아래의 것들을 사용하여 조건을 조금 더 다채롭게 줄 수도 있습니다.\n",
    "# like, startswith, endswith\n",
    "\n",
    "#Like -> 검색어 기능 구현할 때 많이 쓴다. \n",
    "articles = Article.objects.filter(title__contains='fir')\n",
    "print(articles)\n",
    "\n",
    "#Startswith\n",
    "articles = Article.objects.filter(title__startswith='first')\n",
    "print(articles)\n",
    "\n",
    "#Endwith\n",
    "articles = Article.objects.filter(title__endswith='title')\n",
    "print(articles)"
   ]
  },
  {
   "cell_type": "markdown",
   "metadata": {},
   "source": [
    "# UPDATE\n",
    "\n",
    "- update 로직은 비교적 간단합니다.\n",
    "- 1) 기존 데이터베이스에 저장된 값을 불러옵니다.\n",
    "- 2) 원하는 값을 수정합니다.\n",
    "- 3) 다시 저장합니다. 끝."
   ]
  },
  {
   "cell_type": "code",
   "execution_count": 52,
   "metadata": {},
   "outputs": [],
   "source": [
    "# pk가 1인 데이터를 가져와서 제목을 '오늘 저녁 뭐먹지?'로 수정해봅시다.\n",
    "\n",
    "article = Article.objects.get(pk=1)\n",
    "article.title = '오늘 저녁 뭐먹지?'\n",
    "article.save() # DB hit ( 요청을 보내는 것을 hit 이라구 함)\n"
   ]
  },
  {
   "cell_type": "code",
   "execution_count": 53,
   "metadata": {},
   "outputs": [
    {
     "data": {
      "text/html": [
       "<div>\n",
       "<style scoped>\n",
       "    .dataframe tbody tr th:only-of-type {\n",
       "        vertical-align: middle;\n",
       "    }\n",
       "\n",
       "    .dataframe tbody tr th {\n",
       "        vertical-align: top;\n",
       "    }\n",
       "\n",
       "    .dataframe thead th {\n",
       "        text-align: right;\n",
       "    }\n",
       "</style>\n",
       "<table border=\"1\" class=\"dataframe\">\n",
       "  <thead>\n",
       "    <tr style=\"text-align: right;\">\n",
       "      <th></th>\n",
       "      <th></th>\n",
       "      <th></th>\n",
       "      <th></th>\n",
       "      <th></th>\n",
       "    </tr>\n",
       "    <tr>\n",
       "      <th>id</th>\n",
       "      <th>title</th>\n",
       "      <th>content</th>\n",
       "      <th>created_at</th>\n",
       "      <th>updated_at</th>\n",
       "    </tr>\n",
       "  </thead>\n",
       "  <tbody>\n",
       "    <tr>\n",
       "      <th>1</th>\n",
       "      <th>오늘 저녁 뭐먹지?</th>\n",
       "      <th>first content</th>\n",
       "      <th>2020-08-19 10:08:04.906179</th>\n",
       "      <th>2020-08-19 10:40:36.538383</th>\n",
       "    </tr>\n",
       "    <tr>\n",
       "      <th>2</th>\n",
       "      <th>second title</th>\n",
       "      <th>second content</th>\n",
       "      <th>2020-08-19 10:11:01.350435</th>\n",
       "      <th>2020-08-19 10:11:01.350488</th>\n",
       "    </tr>\n",
       "    <tr>\n",
       "      <th>3</th>\n",
       "      <th>third title</th>\n",
       "      <th>third content</th>\n",
       "      <th>2020-08-19 10:13:13.619964</th>\n",
       "      <th>2020-08-19 10:13:13.620003</th>\n",
       "    </tr>\n",
       "    <tr>\n",
       "      <th>4</th>\n",
       "      <th>first title</th>\n",
       "      <th>some content</th>\n",
       "      <th>2020-08-19 10:21:24.679189</th>\n",
       "      <th>2020-08-19 10:21:24.679242</th>\n",
       "    </tr>\n",
       "  </tbody>\n",
       "</table>\n",
       "</div>"
      ],
      "text/plain": [
       "Empty DataFrame\n",
       "Columns: []\n",
       "Index: [(1, 오늘 저녁 뭐먹지?, first content, 2020-08-19 10:08:04.906179, 2020-08-19 10:40:36.538383), (2, second title, second content, 2020-08-19 10:11:01.350435, 2020-08-19 10:11:01.350488), (3, third title, third content, 2020-08-19 10:13:13.619964, 2020-08-19 10:13:13.620003), (4, first title, some content, 2020-08-19 10:21:24.679189, 2020-08-19 10:21:24.679242)]"
      ]
     },
     "execution_count": 53,
     "metadata": {},
     "output_type": "execute_result"
    }
   ],
   "source": [
    "# DB 확인\n",
    "\n",
    "show_db()"
   ]
  },
  {
   "cell_type": "markdown",
   "metadata": {},
   "source": [
    "# DELETE\n",
    "\n",
    "\n",
    "- delete 로직 또한 간단합니다.\n",
    "- 1) 기존 데이터베이스에 저장된 값을 불러옵니다.\n",
    "- 2) 삭제합니다. 끝"
   ]
  },
  {
   "cell_type": "code",
   "execution_count": 54,
   "metadata": {},
   "outputs": [
    {
     "data": {
      "text/plain": [
       "(1, {'articles.Article': 1})"
      ]
     },
     "execution_count": 54,
     "metadata": {},
     "output_type": "execute_result"
    }
   ],
   "source": [
    "# pk가 2인 값을 불러와서 삭제해봅시다.\n",
    "\n",
    "article = Article.objects.get(pk=2)\n",
    "article.delete()"
   ]
  },
  {
   "cell_type": "code",
   "execution_count": 55,
   "metadata": {},
   "outputs": [
    {
     "data": {
      "text/html": [
       "<div>\n",
       "<style scoped>\n",
       "    .dataframe tbody tr th:only-of-type {\n",
       "        vertical-align: middle;\n",
       "    }\n",
       "\n",
       "    .dataframe tbody tr th {\n",
       "        vertical-align: top;\n",
       "    }\n",
       "\n",
       "    .dataframe thead th {\n",
       "        text-align: right;\n",
       "    }\n",
       "</style>\n",
       "<table border=\"1\" class=\"dataframe\">\n",
       "  <thead>\n",
       "    <tr style=\"text-align: right;\">\n",
       "      <th></th>\n",
       "      <th></th>\n",
       "      <th></th>\n",
       "      <th></th>\n",
       "      <th></th>\n",
       "    </tr>\n",
       "    <tr>\n",
       "      <th>id</th>\n",
       "      <th>title</th>\n",
       "      <th>content</th>\n",
       "      <th>created_at</th>\n",
       "      <th>updated_at</th>\n",
       "    </tr>\n",
       "  </thead>\n",
       "  <tbody>\n",
       "    <tr>\n",
       "      <th>1</th>\n",
       "      <th>오늘 저녁 뭐먹지?</th>\n",
       "      <th>first content</th>\n",
       "      <th>2020-08-19 10:08:04.906179</th>\n",
       "      <th>2020-08-19 10:40:36.538383</th>\n",
       "    </tr>\n",
       "    <tr>\n",
       "      <th>3</th>\n",
       "      <th>third title</th>\n",
       "      <th>third content</th>\n",
       "      <th>2020-08-19 10:13:13.619964</th>\n",
       "      <th>2020-08-19 10:13:13.620003</th>\n",
       "    </tr>\n",
       "    <tr>\n",
       "      <th>4</th>\n",
       "      <th>first title</th>\n",
       "      <th>some content</th>\n",
       "      <th>2020-08-19 10:21:24.679189</th>\n",
       "      <th>2020-08-19 10:21:24.679242</th>\n",
       "    </tr>\n",
       "  </tbody>\n",
       "</table>\n",
       "</div>"
      ],
      "text/plain": [
       "Empty DataFrame\n",
       "Columns: []\n",
       "Index: [(1, 오늘 저녁 뭐먹지?, first content, 2020-08-19 10:08:04.906179, 2020-08-19 10:40:36.538383), (3, third title, third content, 2020-08-19 10:13:13.619964, 2020-08-19 10:13:13.620003), (4, first title, some content, 2020-08-19 10:21:24.679189, 2020-08-19 10:21:24.679242)]"
      ]
     },
     "execution_count": 55,
     "metadata": {},
     "output_type": "execute_result"
    }
   ],
   "source": [
    "# 실제로 삭제가 됐는지 확인해봅시다.\n",
    "\n",
    "show_db()"
   ]
  }
 ],
 "metadata": {
  "kernelspec": {
   "display_name": "Django Shell-Plus",
   "language": "python",
   "name": "django_extensions"
  },
  "language_info": {
   "codemirror_mode": {
    "name": "ipython",
    "version": 3
   },
   "file_extension": ".py",
   "mimetype": "text/x-python",
   "name": "python",
   "nbconvert_exporter": "python",
   "pygments_lexer": "ipython3",
   "version": "3.7.3"
  },
  "toc": {
   "base_numbering": 1,
   "nav_menu": {},
   "number_sections": true,
   "sideBar": true,
   "skip_h1_title": false,
   "title_cell": "Table of Contents",
   "title_sidebar": "Contents",
   "toc_cell": false,
   "toc_position": {},
   "toc_section_display": true,
   "toc_window_display": false
  }
 },
 "nbformat": 4,
 "nbformat_minor": 2
}
